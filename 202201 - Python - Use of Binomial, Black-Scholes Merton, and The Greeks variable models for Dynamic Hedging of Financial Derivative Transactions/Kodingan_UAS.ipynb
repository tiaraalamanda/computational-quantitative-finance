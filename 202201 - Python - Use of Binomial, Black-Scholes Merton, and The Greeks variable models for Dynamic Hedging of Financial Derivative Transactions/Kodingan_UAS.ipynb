{
  "nbformat": 4,
  "nbformat_minor": 0,
  "metadata": {
    "colab": {
      "name": "Kodingan UAS.ipynb",
      "provenance": [],
      "collapsed_sections": []
    },
    "kernelspec": {
      "name": "python3",
      "display_name": "Python 3"
    },
    "language_info": {
      "name": "python"
    }
  },
  "cells": [
    {
      "cell_type": "markdown",
      "source": [
        "# No 2 - Opsi Put Amerika"
      ],
      "metadata": {
        "id": "7QCdWNP2rrbp"
      }
    },
    {
      "cell_type": "markdown",
      "source": [
        "## n Langkah"
      ],
      "metadata": {
        "id": "iGY1UfEJr1IB"
      }
    },
    {
      "cell_type": "code",
      "execution_count": 1,
      "metadata": {
        "id": "NujC9rJjzFoA",
        "colab": {
          "base_uri": "https://localhost:8080/",
          "height": 0
        },
        "outputId": "fa69f173-9c10-4576-800b-083eee585fae"
      },
      "outputs": [
        {
          "name": "stdout",
          "output_type": "stream",
          "text": [
            "Masukkan nilai S0, jika dalam pecahan atau % mohon ubah ke bentuk desimal = 100\n",
            "Masukkan nilai K, jika dalam pecahan atau % mohon ubah ke bentuk desimal = 100\n",
            "Masukkan nilai sigma (per tahun), jika dalam pecahan/persen mohon ubah ke bentuk desimal = 0.35\n",
            "Masukkan nilai r (per tahun), jika dalam pecahan/persen mohon ubah ke bentuk desimal = 0.04\n",
            "Masukkan nilai T (waktu jatuh tempo, DALAM TAHUN), jika dalam pecahan/persen mohon ubah ke bentuk desimal = 0.5\n",
            "Masukkan nilai n (banyak langkah), jika dalam pecahan mohon bulatkan ke bilangan bulat terdekat = 100\n"
          ]
        }
      ],
      "source": [
        "S0_1 = float(input('Masukkan nilai S0, jika dalam pecahan atau % mohon ubah ke bentuk desimal = '))\n",
        "K_1 = float(input('Masukkan nilai K, jika dalam pecahan atau % mohon ubah ke bentuk desimal = '))\n",
        "sigma_1 = float(input('Masukkan nilai sigma (per tahun), jika dalam pecahan/persen mohon ubah ke bentuk desimal = '))\n",
        "r_1 = float(input('Masukkan nilai r (per tahun), jika dalam pecahan/persen mohon ubah ke bentuk desimal = '))\n",
        "T_1 = float(input('Masukkan nilai T (waktu jatuh tempo, DALAM TAHUN), jika dalam pecahan/persen mohon ubah ke bentuk desimal = '))\n",
        "n_1 = int(input('Masukkan nilai n (banyak langkah), jika dalam pecahan mohon bulatkan ke bilangan bulat terdekat = '))"
      ]
    },
    {
      "cell_type": "markdown",
      "source": [
        "**Fungsi Waktu Generik**"
      ],
      "metadata": {
        "id": "j4_J6TMpUg5H"
      }
    },
    {
      "cell_type": "code",
      "source": [
        "import numpy as np\n",
        "\n",
        "from functools import wraps\n",
        "from time import time\n",
        "\n",
        "def timing(f):\n",
        "    @wraps(f)\n",
        "    def wrap(*args, **kw):\n",
        "        ts = time()\n",
        "        result = f(*args, **kw)\n",
        "        te = time()\n",
        "        print('func:%r args:[%r, %r] took: %2.4f sec' % \\\n",
        "          (f.__name__, args, kw, te-ts))\n",
        "        return result\n",
        "    return wrap"
      ],
      "metadata": {
        "id": "aw_Ii1bISztQ"
      },
      "execution_count": 2,
      "outputs": []
    },
    {
      "cell_type": "markdown",
      "source": [
        "**Cabang Pohon Put Amerika**"
      ],
      "metadata": {
        "id": "zpHw5i4tUzYI"
      }
    },
    {
      "cell_type": "code",
      "source": [
        "import numpy as np\n",
        "\n",
        "opttype = 'P' # Tipe Opsi 'C' untuk Call, dan 'P' untuk Put\n",
        "\n",
        "delta_t_1 = T_1/n_1\n",
        "u_1 = np.exp(sigma_1*(np.sqrt(delta_t_1)))\n",
        "d_1 = np.exp(-sigma_1*(np.sqrt(delta_t_1)))\n",
        "p_1 = ((np.exp(r_1*delta_t_1)) - d_1)/(u_1 - d_1)\n",
        "\n",
        "print(\"Nilai delta t untuk metode Binomial\", n_1, \"langkah sebesar: \", delta_t_1)\n",
        "print(\"Nilai parameter harga saham naik (u) adalah: \", u_1)\n",
        "print(\"Nilai parameter harga saham turun (d) adalah: \", d_1)\n",
        "print(\"Nilai peluang harga saham naik (p) adalah: \", p_1)\n",
        "\n",
        "def put_amerika (K_1,T_1,S0_1,r_1,n_1,u_1,d_1,opttype='P'):\n",
        "    #precompute values\n",
        "    disc = np.exp(-r_1*delta_t_1)\n",
        "    \n",
        "    # Inisialisasi harga saham saat waktu jatuh tempo\n",
        "    S_1 = np.zeros(n_1+1)\n",
        "    for j in range(0, n_1+1):\n",
        "        S_1[j] = S0_1 * u_1**j * d_1**(n_1-j)\n",
        "        \n",
        "    # PO dari Opsi \n",
        "    C = np.zeros(n_1+1)\n",
        "    for j in range(0, n_1+1):\n",
        "        if opttype == 'P':\n",
        "            C[j] = max(0, K_1 - S_1[j])\n",
        "        else:\n",
        "            C[j] = max(0, S_1[j] - K_1)\n",
        "    \n",
        "    # Perhitungan mundur dengan diagram cabang pohon\n",
        "    for i in np.arange(n_1-1,-1,-1):\n",
        "        for j in range(0,i+1):\n",
        "            S_1 = S0_1 * u_1**j * d_1**(i-j)\n",
        "            C[j] = disc * ( p_1*C[j+1] + (1-p_1)*C[j] )\n",
        "            if opttype == 'P':\n",
        "                C[j] = max(C[j], K_1 - S_1)\n",
        "            else:\n",
        "                C[j] = max(C[j], S_1 - K_1)\n",
        "                \n",
        "    return C[0]"
      ],
      "metadata": {
        "colab": {
          "base_uri": "https://localhost:8080/",
          "height": 0
        },
        "id": "FS5pZOEkU2KY",
        "outputId": "5e549cf4-7074-4658-ec25-d6bc7d418b95"
      },
      "execution_count": 3,
      "outputs": [
        {
          "output_type": "stream",
          "name": "stdout",
          "text": [
            "Nilai delta t untuk metode Binomial 100 langkah sebesar:  0.005\n",
            "Nilai parameter harga saham naik (u) adalah:  1.0250575294843356\n",
            "Nilai parameter harga saham turun (d) adalah:  0.9755550017793236\n",
            "Nilai peluang harga saham naik (p) adalah:  0.4978537332249116\n"
          ]
        }
      ]
    },
    {
      "cell_type": "code",
      "source": [
        "n_langkah = put_amerika(K_1,T_1,S0_1,r_1,n_1,u_1,d_1,opttype='P')\n",
        "print(\"Hasil perhitungan nilai opsi untuk metode Binomial\", n_1, \"langkah sebesar: \", n_langkah)"
      ],
      "metadata": {
        "colab": {
          "base_uri": "https://localhost:8080/",
          "height": 0
        },
        "id": "gfQq3CqOeKyB",
        "outputId": "2e15fee5-14e6-44db-c19e-a519656cad4e"
      },
      "execution_count": 4,
      "outputs": [
        {
          "output_type": "stream",
          "name": "stdout",
          "text": [
            "Hasil perhitungan nilai opsi untuk metode Binomial 100 langkah sebesar:  8.949710382983117\n"
          ]
        }
      ]
    },
    {
      "cell_type": "markdown",
      "source": [
        "# No 3 - Opsi Call Eropa"
      ],
      "metadata": {
        "id": "7VM_69_bnsKE"
      }
    },
    {
      "cell_type": "markdown",
      "source": [
        "## n langkah"
      ],
      "metadata": {
        "id": "8ItqizsdvTmk"
      }
    },
    {
      "cell_type": "code",
      "source": [
        "import numpy as np\n",
        "\n",
        "N = int(input('Masukkan nilai n (banyak langkah), jika dalam pecahan mohon bulatkan ke bilangan bulat terdekat = '))\n",
        "t = float(input('Masukkan nilai T (waktu jatuh tempo, DALAM TAHUN), jika dalam pecahan/persen mohon ubah ke bentuk desimal = '))\n",
        "t = t / (N - 1)\n",
        "S0 = float(input('Masukkan nilai S0, jika dalam pecahan atau % mohon ubah ke bentuk desimal = '))\n",
        "K = float(input('Masukkan nilai K, jika dalam pecahan atau % mohon ubah ke bentuk desimal = '))\n",
        "r = float(input('Masukkan nilai r (per tahun), jika dalam pecahan/persen mohon ubah ke bentuk desimal = '))\n",
        "\n",
        "sigma = float(input('Masukkan nilai sigma (per tahun), jika dalam pecahan/persen mohon ubah ke bentuk desimal = '))\n",
        "u = np.exp(sigma * np.sqrt(t))\n",
        "d = 1/u\n",
        "p = (np.exp(r * t) - d) / (u - d)"
      ],
      "metadata": {
        "colab": {
          "base_uri": "https://localhost:8080/",
          "height": 0
        },
        "id": "Q9XBBE8pzTh3",
        "outputId": "1d05f351-2226-49cb-fd21-1882c07cf382"
      },
      "execution_count": 5,
      "outputs": [
        {
          "name": "stdout",
          "output_type": "stream",
          "text": [
            "Masukkan nilai n (banyak langkah), jika dalam pecahan mohon bulatkan ke bilangan bulat terdekat = 250\n",
            "Masukkan nilai T (waktu jatuh tempo, DALAM TAHUN), jika dalam pecahan/persen mohon ubah ke bentuk desimal = 1\n",
            "Masukkan nilai S0, jika dalam pecahan atau % mohon ubah ke bentuk desimal = 50\n",
            "Masukkan nilai K, jika dalam pecahan atau % mohon ubah ke bentuk desimal = 50\n",
            "Masukkan nilai r (per tahun), jika dalam pecahan/persen mohon ubah ke bentuk desimal = 0.05\n",
            "Masukkan nilai sigma (per tahun), jika dalam pecahan/persen mohon ubah ke bentuk desimal = 0.3\n"
          ]
        }
      ]
    },
    {
      "cell_type": "code",
      "source": [
        "print(\"Nilai delta t untuk metode Binomial\", N, \"langkah sebesar: \", t)\n",
        "print(\"Nilai parameter harga saham naik (u) adalah: \", u)\n",
        "print(\"Nilai parameter harga saham turun (d) adalah: \", d)\n",
        "print(\"Nilai peluang harga saham naik (p) adalah: \", p)"
      ],
      "metadata": {
        "colab": {
          "base_uri": "https://localhost:8080/",
          "height": 0
        },
        "id": "PQ4B4cZbzX8X",
        "outputId": "53ef23d3-6eb2-44e3-94c7-edfd053c9300"
      },
      "execution_count": 6,
      "outputs": [
        {
          "output_type": "stream",
          "name": "stdout",
          "text": [
            "Nilai delta t untuk metode Binomial 250 langkah sebesar:  0.004016064257028112\n",
            "Nilai parameter harga saham naik (u) adalah:  1.019193601156315\n",
            "Nilai parameter harga saham turun (d) adalah:  0.9811678555138699\n",
            "Nilai peluang harga saham naik (p) adalah:  0.5005284588042681\n"
          ]
        }
      ]
    },
    {
      "cell_type": "code",
      "source": [
        "#  Membuat matriks kosong berisi harga saham dan nilai opsi call\n",
        "stock_prices = np.zeros( (N, N) )\n",
        "call_prices = np.zeros( (N, N) )\n",
        "\n",
        "#  Memasukkan harga saham awal ke matriks\n",
        "stock_prices[0,0] = S0\n",
        "\n",
        "#  Memasukkan harga saham yang lain\n",
        "for i in range(1, N ):\n",
        "    M = i + 1\n",
        "    stock_prices[i, 0] = d * stock_prices[i-1, 0]\n",
        "    for j in range(1, M ):\n",
        "        stock_prices[i, j] = u * stock_prices[i - 1, j - 1]\n",
        " \n",
        "#  Hitung nilai opsi call pada waktu jatuh tempo. Jika nilai opsi <0, akan diisi menjadi 0 pada matriks.\n",
        "expiration = stock_prices[-1,:] - K\n",
        "expiration.shape = (expiration.size, )\n",
        "expiration = np.where(expiration >= 0, expiration, 0)\n",
        "\n",
        "#  Baris terakhir matriks berisi nilai opsi call saat waktu jatuh tempo\n",
        "call_prices[-1,:] =  expiration\n",
        "\n",
        "#  Perhitungan mundur dengan diagram cabang pohon\n",
        "for i in range(N - 2,-1,-1):\n",
        "    for j in range(i + 1):\n",
        "        call_prices[i,j] = np.exp(-r * t) * ((1-p) * call_prices[i+1,j] + p * call_prices[i+1,j+1])"
      ],
      "metadata": {
        "id": "qsi7awEXyUEF"
      },
      "execution_count": 7,
      "outputs": []
    },
    {
      "cell_type": "code",
      "source": [
        "hrg_call = call_prices[0,0]\n",
        "print(\"Hasil perhitungan nilai opsi untuk metode Binomial\", N, \"langkah sebesar: \", hrg_call)"
      ],
      "metadata": {
        "colab": {
          "base_uri": "https://localhost:8080/",
          "height": 0
        },
        "id": "Q-JvDuoBzNDR",
        "outputId": "b5780cb6-2643-47c1-848f-ffac5bb84045"
      },
      "execution_count": 8,
      "outputs": [
        {
          "output_type": "stream",
          "name": "stdout",
          "text": [
            "Hasil perhitungan nilai opsi untuk metode Binomial 250 langkah sebesar:  7.121142700538418\n"
          ]
        }
      ]
    }
  ]
}